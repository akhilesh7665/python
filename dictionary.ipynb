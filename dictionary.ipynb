{
 "cells": [
  {
   "cell_type": "code",
   "execution_count": 1,
   "id": "ffc51d48-cdcc-4b87-88e4-9f945ee35748",
   "metadata": {},
   "outputs": [],
   "source": [
    "#dictinary\n",
    "a={'habits' : 'drinking','sports' : 'cricket','exam':'questions','likes':'technology'}\n",
    "b={'axe':'pain','meme':'joke','people':'dum'}"
   ]
  },
  {
   "cell_type": "code",
   "execution_count": 2,
   "id": "cd6dc748-8cdc-4bd4-b20c-202e27c0d60f",
   "metadata": {},
   "outputs": [
    {
     "data": {
      "text/plain": [
       "'pain'"
      ]
     },
     "execution_count": 2,
     "metadata": {},
     "output_type": "execute_result"
    }
   ],
   "source": [
    "b['axe']"
   ]
  },
  {
   "cell_type": "code",
   "execution_count": 3,
   "id": "4a7f79ac-9e2c-4c63-bab8-f8d373155fab",
   "metadata": {},
   "outputs": [],
   "source": [
    "b['num']=52"
   ]
  },
  {
   "cell_type": "code",
   "execution_count": 4,
   "id": "ccdbaaf6-54c1-47e5-a54c-faa606b939e8",
   "metadata": {},
   "outputs": [
    {
     "data": {
      "text/plain": [
       "{'axe': 'pain', 'meme': 'joke', 'people': 'dum', 'num': 52}"
      ]
     },
     "execution_count": 4,
     "metadata": {},
     "output_type": "execute_result"
    }
   ],
   "source": [
    "b"
   ]
  },
  {
   "cell_type": "code",
   "execution_count": 5,
   "id": "588f370e-d437-4e16-bfa5-4bb262a3fe5d",
   "metadata": {},
   "outputs": [
    {
     "data": {
      "text/plain": [
       "{'axe': 'pain', 'meme': 'joke', 'people': 'dum', 'num': [52, 37, 86, 41]}"
      ]
     },
     "execution_count": 5,
     "metadata": {},
     "output_type": "execute_result"
    }
   ],
   "source": [
    "b['num']=[52,37,86,41]\n",
    "b"
   ]
  },
  {
   "cell_type": "code",
   "execution_count": 6,
   "id": "f4ee9429-fddf-4507-8b5a-92e8ef8ff140",
   "metadata": {},
   "outputs": [],
   "source": [
    "b['axe']=['pain','medicine']"
   ]
  },
  {
   "cell_type": "code",
   "execution_count": 7,
   "id": "2b59d685-bd76-4163-adc2-e0bd1e47983d",
   "metadata": {},
   "outputs": [
    {
     "data": {
      "text/plain": [
       "{'axe': ['pain', 'medicine'],\n",
       " 'meme': 'joke',\n",
       " 'people': 'dum',\n",
       " 'num': [52, 37, 86, 41]}"
      ]
     },
     "execution_count": 7,
     "metadata": {},
     "output_type": "execute_result"
    }
   ],
   "source": [
    "b"
   ]
  },
  {
   "cell_type": "code",
   "execution_count": 8,
   "id": "243c3936-854d-4e8d-a399-a2d9f56300b3",
   "metadata": {},
   "outputs": [
    {
     "data": {
      "text/plain": [
       "{'axe': ['pain', 'medicine'],\n",
       " 'meme': 'joke',\n",
       " 'people': 'intellegent',\n",
       " 'num': [52, 37, 86, 41]}"
      ]
     },
     "execution_count": 8,
     "metadata": {},
     "output_type": "execute_result"
    }
   ],
   "source": [
    "b['people']='intellegent'\n",
    "b"
   ]
  },
  {
   "cell_type": "code",
   "execution_count": 9,
   "id": "15967e0b-17f2-4604-afe3-b8f9d09c8433",
   "metadata": {},
   "outputs": [
    {
     "data": {
      "text/plain": [
       "'cricket'"
      ]
     },
     "execution_count": 9,
     "metadata": {},
     "output_type": "execute_result"
    }
   ],
   "source": [
    " #methods\n",
    "a.get('sports')"
   ]
  },
  {
   "cell_type": "code",
   "execution_count": 10,
   "id": "d41c55ac-6a09-454e-84f1-8e1230af61e1",
   "metadata": {},
   "outputs": [
    {
     "data": {
      "text/plain": [
       "'not exist'"
      ]
     },
     "execution_count": 10,
     "metadata": {},
     "output_type": "execute_result"
    }
   ],
   "source": [
    "a.get('cinema','not exist')"
   ]
  },
  {
   "cell_type": "code",
   "execution_count": 11,
   "id": "014a7587-62d1-4b60-959d-b76ee30428cc",
   "metadata": {},
   "outputs": [
    {
     "data": {
      "text/plain": [
       "'not exist'"
      ]
     },
     "execution_count": 11,
     "metadata": {},
     "output_type": "execute_result"
    }
   ],
   "source": [
    "a.get('axe','not exist')"
   ]
  },
  {
   "cell_type": "code",
   "execution_count": 12,
   "id": "ed7e5d6b-7aff-49ca-9069-6ae7ee68f493",
   "metadata": {},
   "outputs": [
    {
     "data": {
      "text/plain": [
       "'drinking'"
      ]
     },
     "execution_count": 12,
     "metadata": {},
     "output_type": "execute_result"
    }
   ],
   "source": [
    "a.get('habits','not exist')"
   ]
  },
  {
   "cell_type": "code",
   "execution_count": 15,
   "id": "07544b30-3086-465d-a990-f9a9c06308df",
   "metadata": {},
   "outputs": [
    {
     "data": {
      "text/plain": [
       "dict_keys(['habits', 'sports', 'exam', 'likes'])"
      ]
     },
     "execution_count": 15,
     "metadata": {},
     "output_type": "execute_result"
    }
   ],
   "source": [
    "a.keys()"
   ]
  },
  {
   "cell_type": "code",
   "execution_count": 16,
   "id": "91d975fd-d73b-4c03-a209-6aab67311226",
   "metadata": {},
   "outputs": [
    {
     "data": {
      "text/plain": [
       "dict_keys(['axe', 'meme', 'people', 'num'])"
      ]
     },
     "execution_count": 16,
     "metadata": {},
     "output_type": "execute_result"
    }
   ],
   "source": [
    "b.keys()"
   ]
  },
  {
   "cell_type": "code",
   "execution_count": 17,
   "id": "ce52246d-80dd-4485-9acc-a9c057749451",
   "metadata": {},
   "outputs": [
    {
     "data": {
      "text/plain": [
       "dict_values(['drinking', 'cricket', 'questions', 'technology'])"
      ]
     },
     "execution_count": 17,
     "metadata": {},
     "output_type": "execute_result"
    }
   ],
   "source": [
    "a.values()"
   ]
  },
  {
   "cell_type": "code",
   "execution_count": 18,
   "id": "00560d5a-46dc-4b94-917c-27dc33e28f86",
   "metadata": {},
   "outputs": [
    {
     "data": {
      "text/plain": [
       "dict_values([['pain', 'medicine'], 'joke', 'intellegent', [52, 37, 86, 41]])"
      ]
     },
     "execution_count": 18,
     "metadata": {},
     "output_type": "execute_result"
    }
   ],
   "source": [
    "b.values()"
   ]
  },
  {
   "cell_type": "code",
   "execution_count": 19,
   "id": "7b28e0e2-3192-4487-af9b-1b6ac5d6fe3d",
   "metadata": {},
   "outputs": [
    {
     "data": {
      "text/plain": [
       "dict_items([('habits', 'drinking'), ('sports', 'cricket'), ('exam', 'questions'), ('likes', 'technology')])"
      ]
     },
     "execution_count": 19,
     "metadata": {},
     "output_type": "execute_result"
    }
   ],
   "source": [
    "a.items()"
   ]
  },
  {
   "cell_type": "code",
   "execution_count": 21,
   "id": "9d029296-297e-4439-844d-595f7b4debc5",
   "metadata": {},
   "outputs": [
    {
     "data": {
      "text/plain": [
       "'drinking'"
      ]
     },
     "execution_count": 21,
     "metadata": {},
     "output_type": "execute_result"
    }
   ],
   "source": [
    "a.pop('habits')"
   ]
  },
  {
   "cell_type": "code",
   "execution_count": 22,
   "id": "038d0302-1905-4ef6-bc18-b390690697f0",
   "metadata": {},
   "outputs": [
    {
     "data": {
      "text/plain": [
       "{'sports': 'cricket', 'exam': 'questions', 'likes': 'technology'}"
      ]
     },
     "execution_count": 22,
     "metadata": {},
     "output_type": "execute_result"
    }
   ],
   "source": [
    "a"
   ]
  },
  {
   "cell_type": "code",
   "execution_count": 24,
   "id": "fb41457e-a8e9-4c95-98ad-cc9412798ff0",
   "metadata": {},
   "outputs": [
    {
     "data": {
      "text/plain": [
       "('likes', 'technology')"
      ]
     },
     "execution_count": 24,
     "metadata": {},
     "output_type": "execute_result"
    }
   ],
   "source": [
    "a.popitem()"
   ]
  },
  {
   "cell_type": "code",
   "execution_count": 25,
   "id": "a00d6161-ff25-41d4-885d-17b8caa92d6b",
   "metadata": {},
   "outputs": [
    {
     "data": {
      "text/plain": [
       "{'sports': 'cricket', 'exam': 'questions'}"
      ]
     },
     "execution_count": 25,
     "metadata": {},
     "output_type": "execute_result"
    }
   ],
   "source": [
    "a"
   ]
  },
  {
   "cell_type": "code",
   "execution_count": 26,
   "id": "22e73d03-98e1-4663-9263-9d4584cfcfee",
   "metadata": {},
   "outputs": [],
   "source": [
    "x={'action':'avengers','family':'telugu','emotion':'everywhere'}"
   ]
  },
  {
   "cell_type": "code",
   "execution_count": 27,
   "id": "742fd97f-2a69-4242-a585-e0a718e2101b",
   "metadata": {},
   "outputs": [],
   "source": [
    "a.update(x)"
   ]
  },
  {
   "cell_type": "code",
   "execution_count": 28,
   "id": "94e7bd5e-2b1e-41ae-8dab-21dee715410b",
   "metadata": {},
   "outputs": [
    {
     "data": {
      "text/plain": [
       "{'sports': 'cricket',\n",
       " 'exam': 'questions',\n",
       " 'action': 'avengers',\n",
       " 'family': 'telugu',\n",
       " 'emotion': 'everywhere'}"
      ]
     },
     "execution_count": 28,
     "metadata": {},
     "output_type": "execute_result"
    }
   ],
   "source": [
    "a"
   ]
  },
  {
   "cell_type": "code",
   "execution_count": 5,
   "id": "3da3f765-bd57-4c33-818f-c370d03ee0a9",
   "metadata": {},
   "outputs": [],
   "source": [
    "##set\n",
    "j={'crazy','tozy','hector',32,19}\n",
    "d={'tolly','bolly','holly'}\n",
    "j.add(36)\n"
   ]
  },
  {
   "cell_type": "code",
   "execution_count": 6,
   "id": "8a56d7ef-209c-41cb-a689-a13d4c0ce58f",
   "metadata": {},
   "outputs": [
    {
     "data": {
      "text/plain": [
       "{19, 32, 36, 'crazy', 'hector', 'tozy'}"
      ]
     },
     "execution_count": 6,
     "metadata": {},
     "output_type": "execute_result"
    }
   ],
   "source": [
    "j"
   ]
  },
  {
   "cell_type": "code",
   "execution_count": 32,
   "id": "2ab4b5a8-9a33-4032-aa95-58f46c3210dc",
   "metadata": {},
   "outputs": [],
   "source": [
    "d.remove('tolly')"
   ]
  },
  {
   "cell_type": "code",
   "execution_count": 33,
   "id": "41cd79ad-76e5-4980-bca9-4ee1d8a79adb",
   "metadata": {},
   "outputs": [
    {
     "data": {
      "text/plain": [
       "{'bolly', 'holly'}"
      ]
     },
     "execution_count": 33,
     "metadata": {},
     "output_type": "execute_result"
    }
   ],
   "source": [
    "d"
   ]
  },
  {
   "cell_type": "code",
   "execution_count": 36,
   "id": "73f80889-121c-46c6-8927-ee3d3562725c",
   "metadata": {},
   "outputs": [],
   "source": [
    "d.update(j)"
   ]
  },
  {
   "cell_type": "code",
   "execution_count": 37,
   "id": "c37dd379-e2cb-4a85-8567-8586f1cf87eb",
   "metadata": {},
   "outputs": [
    {
     "data": {
      "text/plain": [
       "{19, 32, 36, 'bolly', 'crazy', 'hector', 'holly', 'k', 'l', 'o', 'tozy', 'y'}"
      ]
     },
     "execution_count": 37,
     "metadata": {},
     "output_type": "execute_result"
    }
   ],
   "source": [
    "d"
   ]
  },
  {
   "cell_type": "code",
   "execution_count": 38,
   "id": "2c9c1ff5-7b2e-4f4b-a7eb-f11963071a1d",
   "metadata": {},
   "outputs": [
    {
     "data": {
      "text/plain": [
       "12"
      ]
     },
     "execution_count": 38,
     "metadata": {},
     "output_type": "execute_result"
    }
   ],
   "source": [
    "len(d)"
   ]
  },
  {
   "cell_type": "code",
   "execution_count": 7,
   "id": "7df00e7c-e1e6-4e47-bb50-23a81f634f60",
   "metadata": {},
   "outputs": [
    {
     "data": {
      "text/plain": [
       "{19, 32, 36, 'bolly', 'crazy', 'hector', 'holly', 'tolly', 'tozy'}"
      ]
     },
     "execution_count": 7,
     "metadata": {},
     "output_type": "execute_result"
    }
   ],
   "source": [
    "d|j"
   ]
  },
  {
   "cell_type": "code",
   "execution_count": 10,
   "id": "244cc4d8-ae38-463a-a574-2527a97eb787",
   "metadata": {},
   "outputs": [
    {
     "data": {
      "text/plain": [
       "set()"
      ]
     },
     "execution_count": 10,
     "metadata": {},
     "output_type": "execute_result"
    }
   ],
   "source": [
    "d&j"
   ]
  },
  {
   "cell_type": "code",
   "execution_count": 11,
   "id": "c5fc3ddc-1475-4e27-9ac3-e9a00f863f6b",
   "metadata": {},
   "outputs": [
    {
     "data": {
      "text/plain": [
       "{1, 46, 90}"
      ]
     },
     "execution_count": 11,
     "metadata": {},
     "output_type": "execute_result"
    }
   ],
   "source": [
    "a={1,19,90,46,72}\n",
    "b={1,21,34,90,23,45,46}\n",
    "a&b"
   ]
  },
  {
   "cell_type": "code",
   "execution_count": 13,
   "id": "69f673d7-a558-4a2b-bd5b-f0c2e90089ef",
   "metadata": {},
   "outputs": [
    {
     "data": {
      "text/plain": [
       "{1, 19, 21, 23, 34, 45, 46, 72, 90}"
      ]
     },
     "execution_count": 13,
     "metadata": {},
     "output_type": "execute_result"
    }
   ],
   "source": [
    "a|b"
   ]
  },
  {
   "cell_type": "code",
   "execution_count": 14,
   "id": "f74557ed-1d11-4784-bd0e-197781961671",
   "metadata": {},
   "outputs": [
    {
     "data": {
      "text/plain": [
       "{19, 72}"
      ]
     },
     "execution_count": 14,
     "metadata": {},
     "output_type": "execute_result"
    }
   ],
   "source": [
    "a-b"
   ]
  },
  {
   "cell_type": "code",
   "execution_count": 15,
   "id": "b9d7a719-3ecf-488c-8329-562859e210b0",
   "metadata": {},
   "outputs": [
    {
     "data": {
      "text/plain": [
       "{21, 23, 34, 45}"
      ]
     },
     "execution_count": 15,
     "metadata": {},
     "output_type": "execute_result"
    }
   ],
   "source": [
    "b-a"
   ]
  },
  {
   "cell_type": "code",
   "execution_count": 16,
   "id": "6d6ed4a0-48af-4df6-9313-0e732284afe5",
   "metadata": {},
   "outputs": [
    {
     "data": {
      "text/plain": [
       "{19, 21, 23, 34, 45, 72}"
      ]
     },
     "execution_count": 16,
     "metadata": {},
     "output_type": "execute_result"
    }
   ],
   "source": [
    "a^b"
   ]
  },
  {
   "cell_type": "code",
   "execution_count": null,
   "id": "697e9fd6-9ec2-42d7-b951-866ffa368498",
   "metadata": {},
   "outputs": [],
   "source": []
  }
 ],
 "metadata": {
  "kernelspec": {
   "display_name": "Python 3 (ipykernel)",
   "language": "python",
   "name": "python3"
  },
  "language_info": {
   "codemirror_mode": {
    "name": "ipython",
    "version": 3
   },
   "file_extension": ".py",
   "mimetype": "text/x-python",
   "name": "python",
   "nbconvert_exporter": "python",
   "pygments_lexer": "ipython3",
   "version": "3.11.7"
  }
 },
 "nbformat": 4,
 "nbformat_minor": 5
}
